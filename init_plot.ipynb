{
 "cells": [
  {
   "cell_type": "code",
   "execution_count": 23,
   "metadata": {},
   "outputs": [],
   "source": [
    "import numpy as np\n",
    "import scipy as spy\n",
    "import  scipy.integrate\n",
    "import loadData as ld\n",
    "import matplotlib.pyplot as plt\n",
    "from IPython.display import HTML\n",
    "import matplotlib.cm as cm\n",
    "from matplotlib.colors import Normalize\n",
    "%matplotlib inline\n",
    "axl_font_sz = 16;\n",
    "fwidth = 4.0; fheight = fwidth/1.2;\n",
    "nframe = 1;"
   ]
  },
  {
   "cell_type": "code",
   "execution_count": 37,
   "metadata": {},
   "outputs": [
    {
     "name": "stdout",
     "output_type": "stream",
     "text": [
      "[ 0.49    0.49    0.735   0.931   1.47    2.989   3.1605  3.038   2.842\n",
      "  2.5235  2.254   2.0825]\n",
      "Row leaf area index 4.03\n"
     ]
    },
    {
     "data": {
      "image/png": "[encoded data removed]",
      "text/plain": [
       "<matplotlib.figure.Figure at 0x7f51a3da7fd0>"
      ]
     },
     "metadata": {},
     "output_type": "display_data"
    }
   ],
   "source": [
    "#load LAD profile\n",
    "master_dir_90 = \"/home/ahsan/LAI_4_16_rows_45/\"\n",
    "inpara_90 = ld.readInput(master_dir_90+\"/input/LESinputs.txt\");\n",
    "fname = master_dir_90+\"/input/PlantDensity.ini\";\n",
    "lad3d_90 = ld.loadField(fname, inpara_90['Nx'], inpara_90['Ny'], inpara_90['Nz']);\n",
    "z_u = np.linspace(0.5*inpara_90['dz'], inpara_90['l_z']+0.5*inpara_90['dz'], inpara_90['Nz']);\n",
    "z_w = np.linspace(0.0*inpara_90['dz'], inpara_90['l_z'], inpara_90['Nz']);\n",
    "\n",
    "non_zero_pos = np.nonzero(lad3d_90[:,10,10]);\n",
    "lad_true_indx = non_zero_pos[0][3]; \n",
    "vert_last_lad_indx = len(np.nonzero(lad3d_90[lad_true_indx ,10,:])[0]);\n",
    "fig = plt.figure();\n",
    "fig.set_size_inches(fwidth, fheight);\n",
    "ax = fig.add_subplot(111);\n",
    "ax.plot(lad3d_90[lad_true_indx,10,:]*inpara_90['h_canopy'],z_u/inpara_90['h_canopy'],  '-om',markevery=4, MarkerSize=7);\n",
    "ax.set_ylim([0, 2]);\n",
    "ax.set_xlabel(r'$LAD \\times h$', fontsize= axl_font_sz);\n",
    "ax.set_ylabel(r'$x_3/h$', fontsize= axl_font_sz);\n",
    "plt.box(on=1);\n",
    "print(lad3d_90[lad_true_indx,24,0:vert_last_lad_indx])\n",
    "LAI = scipy.integrate.trapz(lad3d_90[lad_true_indx,24,0:vert_last_lad_indx], z_w[0:vert_last_lad_indx]);\n",
    "print(\"Row leaf area index {0:2.2f}\".format(LAI));"
   ]
  },
  {
   "cell_type": "markdown",
   "metadata": {},
   "source": [
    "``Row Leaf Area Index = 1.01``"
   ]
  },
  {
   "cell_type": "markdown",
   "metadata": {},
   "source": [
    "`Siumlation parameteres`\n",
    "\n",
    "| simulation | N_1, N_2, N_3 | Canopy Height,h(m)| L_1/h, L_2/h, L_3/h |Mean angle of forcing(wrt. vine row, ccw)|\n",
    "| :---------:|:-------------:|:-----------------:|:-------------------:|:---------------------------------------:|\n",
    "| M90        | 96,96,96      |       2.18        |  11.09, 11.09, 8    |           90                            |\n",
    "\n",
    "1,2,3 corresponds to perpendicular to vine row, vine row and vertical directions, respectively\n",
    "\n",
    "``Row width = 0.5 m``\n",
    "\n",
    "``Row Spaing = 1.5 m``"
   ]
  },
  {
   "cell_type": "code",
   "execution_count": 38,
   "metadata": {},
   "outputs": [
    {
     "data": {
      "image/png": "[encoded data removed]",
      "text/plain": [
       "<matplotlib.figure.Figure at 0x7f51a3744630>"
      ]
     },
     "metadata": {},
     "output_type": "display_data"
    }
   ],
   "source": [
    "x = np.arange(inpara_90['Nx']);\n",
    "y = np.arange(inpara_90['Nz']);\n",
    "x = x - x[47];\n",
    "y = y - y[24];\n",
    "x = [i*inpara_90['dx']/inpara_90['h_canopy'] for i in x];\n",
    "y = [i*inpara_90['dz']/inpara_90['h_canopy'] for i in y] ;\n",
    "\n",
    "fig = plt.figure();\n",
    "fig.set_size_inches(6, 3);\n",
    "ax = fig.add_subplot(111);\n",
    "ss = inpara_90['h_canopy'];\n",
    "pevery = 1;\n",
    "colors = np.sqrt((np.mean(lad3d_90, axis=1)).T[::pevery,::pevery]**2/ss, \\\n",
    "                np.mean(lad3d_90, axis=1).T[::pevery,::pevery]**2/ss)/np.sqrt(2);\n",
    "ladprof = np.mean(lad3d_90, axis=1).T[::pevery,::pevery];\n",
    "\n",
    "xx, yy = np.meshgrid(x[::pevery], y[::pevery]);\n",
    "xx = np.reshape(xx, xx.size, order='c');\n",
    "yy = np.reshape(yy, xx.size, order='c');\n",
    "ladprof = np.reshape(ladprof/np.max(ladprof), ladprof.size, order='c');\n",
    "#ax.scatter(xx,yy, c=ladprof, cmap=cm.BuGn, marker=r'o', alpha=0.75);\n",
    "XX, YY = np.meshgrid(x[::pevery], y[::pevery]);\n",
    "pax = ax.pcolormesh(XX.T, YY.T, lad3d_90[:, 48,:], cmap=cm.BuGn);\n",
    "fig.colorbar(pax);\n",
    "ax.set_xlim([-6, 6]);\n",
    "ax.set_xlabel(r'$x_1/h$', fontsize= axl_font_sz);\n",
    "ax.set_ylabel(r'$x_3/h$', fontsize= axl_font_sz);"
   ]
  },
  {
   "cell_type": "markdown",
   "metadata": {},
   "source": [
    "``Leaf Area Density Map on x_1, x_3 plane``"
   ]
  }
 ],
 "metadata": {
  "kernelspec": {
   "display_name": "Python 3",
   "language": "python",
   "name": "python3"
  },
  "language_info": {
   "codemirror_mode": {
    "name": "ipython",
    "version": 3
   },
   "file_extension": ".py",
   "mimetype": "text/x-python",
   "name": "python",
   "nbconvert_exporter": "python",
   "pygments_lexer": "ipython3",
   "version": "3.6.5"
  }
 },
 "nbformat": 4,
 "nbformat_minor": 2
}
